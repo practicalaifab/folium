{
 "cells": [
  {
   "cell_type": "code",
   "execution_count": 9,
   "metadata": {},
   "outputs": [],
   "source": [
    "import pandas as pd\n",
    "import folium\n",
    "\n",
    "pd.set_option('display.max_columns', None)"
   ]
  },
  {
   "cell_type": "code",
   "execution_count": 12,
   "metadata": {},
   "outputs": [],
   "source": [
    "df = pd.read_csv('data/hospitals.csv')\n",
    "# df.tail()\n",
    "# df.info()"
   ]
  },
  {
   "cell_type": "code",
   "execution_count": 16,
   "metadata": {},
   "outputs": [],
   "source": [
    "ma = df[df['STATE']==\"MA\"][['NAME','LATITUDE','LONGITUDE']]"
   ]
  },
  {
   "cell_type": "code",
   "execution_count": 17,
   "metadata": {},
   "outputs": [
    {
     "data": {
      "text/html": [
       "<div>\n",
       "<style scoped>\n",
       "    .dataframe tbody tr th:only-of-type {\n",
       "        vertical-align: middle;\n",
       "    }\n",
       "\n",
       "    .dataframe tbody tr th {\n",
       "        vertical-align: top;\n",
       "    }\n",
       "\n",
       "    .dataframe thead th {\n",
       "        text-align: right;\n",
       "    }\n",
       "</style>\n",
       "<table border=\"1\" class=\"dataframe\">\n",
       "  <thead>\n",
       "    <tr style=\"text-align: right;\">\n",
       "      <th></th>\n",
       "      <th>NAME</th>\n",
       "      <th>LATITUDE</th>\n",
       "      <th>LONGITUDE</th>\n",
       "    </tr>\n",
       "  </thead>\n",
       "  <tbody>\n",
       "    <tr>\n",
       "      <th>1164</th>\n",
       "      <td>66TH MEDICAL SQUADRON, HANSCOM AIR FORCE BASE</td>\n",
       "      <td>42.45788</td>\n",
       "      <td>-71.282688</td>\n",
       "    </tr>\n",
       "    <tr>\n",
       "      <th>2944</th>\n",
       "      <td>ANNA JAQUES HOSPITAL</td>\n",
       "      <td>42.81440</td>\n",
       "      <td>-70.891100</td>\n",
       "    </tr>\n",
       "    <tr>\n",
       "      <th>2945</th>\n",
       "      <td>ATHOL MEMORIAL HOSPITAL</td>\n",
       "      <td>42.58550</td>\n",
       "      <td>-72.208900</td>\n",
       "    </tr>\n",
       "    <tr>\n",
       "      <th>2946</th>\n",
       "      <td>BAYSTATE FRANKLIN MEDICAL CENTER</td>\n",
       "      <td>42.59570</td>\n",
       "      <td>-72.592300</td>\n",
       "    </tr>\n",
       "    <tr>\n",
       "      <th>2947</th>\n",
       "      <td>BAYSTATE MEDICAL CENTER</td>\n",
       "      <td>42.12170</td>\n",
       "      <td>-72.603200</td>\n",
       "    </tr>\n",
       "  </tbody>\n",
       "</table>\n",
       "</div>"
      ],
      "text/plain": [
       "                                               NAME  LATITUDE  LONGITUDE\n",
       "1164  66TH MEDICAL SQUADRON, HANSCOM AIR FORCE BASE  42.45788 -71.282688\n",
       "2944                           ANNA JAQUES HOSPITAL  42.81440 -70.891100\n",
       "2945                        ATHOL MEMORIAL HOSPITAL  42.58550 -72.208900\n",
       "2946               BAYSTATE FRANKLIN MEDICAL CENTER  42.59570 -72.592300\n",
       "2947                        BAYSTATE MEDICAL CENTER  42.12170 -72.603200"
      ]
     },
     "execution_count": 17,
     "metadata": {},
     "output_type": "execute_result"
    }
   ],
   "source": [
    "ma.head()"
   ]
  },
  {
   "cell_type": "code",
   "execution_count": 25,
   "metadata": {},
   "outputs": [],
   "source": [
    "lat_mean = ma['LATITUDE'].mean()\n",
    "long_mean = ma['LONGITUDE'].mean()"
   ]
  },
  {
   "cell_type": "code",
   "execution_count": 34,
   "metadata": {},
   "outputs": [],
   "source": [
    "map = folium.Map(location=[lat_mean, long_mean], zoom_start=15)"
   ]
  },
  {
   "cell_type": "code",
   "execution_count": 35,
   "metadata": {},
   "outputs": [],
   "source": [
    "list_coor = ma.values.tolist()"
   ]
  },
  {
   "cell_type": "code",
   "execution_count": 36,
   "metadata": {},
   "outputs": [],
   "source": [
    "for i in list_coor:\n",
    "    map.add_child(folium.Marker(location=[i[1],i[2]],\n",
    "                                popup=i[0],icon=folium.Icon(color='green')))"
   ]
  },
  {
   "cell_type": "code",
   "execution_count": 38,
   "metadata": {},
   "outputs": [],
   "source": [
    "map.save(\"ma.html\")"
   ]
  },
  {
   "cell_type": "code",
   "execution_count": null,
   "metadata": {},
   "outputs": [],
   "source": []
  }
 ],
 "metadata": {
  "kernelspec": {
   "display_name": "Python 3",
   "language": "python",
   "name": "python3"
  },
  "language_info": {
   "codemirror_mode": {
    "name": "ipython",
    "version": 3
   },
   "file_extension": ".py",
   "mimetype": "text/x-python",
   "name": "python",
   "nbconvert_exporter": "python",
   "pygments_lexer": "ipython3",
   "version": "3.10.4"
  },
  "orig_nbformat": 4
 },
 "nbformat": 4,
 "nbformat_minor": 2
}
